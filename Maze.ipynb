{
 "cells": [
  {
   "cell_type": "code",
   "execution_count": 21,
   "metadata": {},
   "outputs": [],
   "source": [
    "import numpy as np\n",
    "import matplotlib.pyplot as plt\n",
    "\n",
    "import os\n",
    "import copy\n",
    "\n",
    "class MazeGenerator(object):\n",
    "    def __init__(self, field_size):\n",
    "        if type(field_size) not in [list, np.ndarray]:\n",
    "            raise TypeError(\"field_size should be list or numpy.ndarray\")\n",
    "        for n in field_size:\n",
    "            if n%2 == 0:\n",
    "                raise ValueError(\"field_size shoud be odd number.\")\n",
    "        self.field_size = np.array([field_size[0] + 2, field_size[1] + 2])\n",
    "        \n",
    "        # field生成\n",
    "        # 1 is road, 0 is wall\n",
    "        self.field = np.ones(self.field_size)\n",
    "        self.field[1:self.field_size[0]-1, 1:self.field_size[1]-1] = 0\n",
    "        \n",
    "        self.goal_points = []\n",
    "        \n",
    "    def check_maze(self):\n",
    "        plt.pcolor(self.field)\n",
    "        plt.show()\n",
    "        plt.close()\n",
    "    \n",
    "    def save_maze(self):\n",
    "        if not os.path.exists(\"maze_graph\"):\n",
    "            os.mkdir(\"maze_graph\")\n",
    "        plt.pcolor(self.field)\n",
    "        plt.savefig(\"./maze_graph/maze_generate_{}.png\".format(1000 + self.count))\n",
    "        \n",
    "    def generate(self, save=False):\n",
    "        self.count = 0\n",
    "        #start coordinate is left dowm corner\n",
    "        start = np.array([2, 2])\n",
    "        self.field[start[0], start[1]] = 1\n",
    "        restart_candidate = []\n",
    "        \n",
    "        while self.field[2:-2:2, 2:-2:2].all() != 1:\n",
    "            forward_vec, n_route = self._select_direction(start)\n",
    "            \n",
    "            if forward_vec is not None:\n",
    "                self.update_field(start, forward_vec)\n",
    "                \n",
    "                #他に行くことのできる道が残っている場合restart候補に保存\n",
    "                if n_route >= 1:\n",
    "                    restart_candidate.append(start)\n",
    "                #move\n",
    "                start = start + forward_vec\n",
    "                \n",
    "                if save:\n",
    "                    self.save_maze()\n",
    "                    self.count += 1\n",
    "            else:\n",
    "                self.goal_points.append(start)\n",
    "                #self.check_maze()\n",
    "                    \n",
    "                start = None\n",
    "                while start is None:\n",
    "                    candidate_index = np.random.choice(len(restart_candidate))\n",
    "                    _, n_candidate = self._select_direction(restart_candidate[candidate_index])\n",
    "                    if n_candidate +1 == 0:\n",
    "                        del restart_candidate[candidate_index]\n",
    "                        if len(restart_candidate) == 0:\n",
    "                            break\n",
    "                        continue\n",
    "                    elif n_candidate +1 == 1:\n",
    "                        start = restart_candidate[candidate_index]\n",
    "                        del restart_candidate[candidate_index]\n",
    "                    else :\n",
    "                        start = restart_candidate[candidate_index]\n",
    "                    \n",
    "        \n",
    "        self._make_goal()\n",
    "        if save:\n",
    "            self.save_maze()\n",
    "        \n",
    "            \n",
    "    def _select_direction(self, ref_point):\n",
    "        candidates = []\n",
    "        for i in [-2, 2]:\n",
    "            for index in [0, 1]:\n",
    "                temp_vec = np.array([0, 0])\n",
    "                temp_vec[index] = i\n",
    "                \n",
    "                forward = ref_point + temp_vec\n",
    "                if self.field[forward[0], forward[1]] != 1:\n",
    "                    candidates.append(temp_vec)\n",
    "        try:\n",
    "            forward_vec = candidates[np.random.choice(range(len(candidates)))]\n",
    "            return forward_vec, len(candidates) -1 \n",
    "        except:\n",
    "            return None, -1\n",
    "    \n",
    "    def update_field(self, start, forward_vec):\n",
    "        for i in range(1, 3):\n",
    "            temp = start + forward_vec/i\n",
    "            self.field[int(temp[0]), int(temp[1])] = 1\n",
    "            \n",
    "    def _make_goal(self):\n",
    "        indexes = np.random.choice(range(len(self.goal_points)), 2, replace=False)\n",
    "        self.start_point = self.goal_points[indexes[0]]\n",
    "        self.goal_point = self.goal_points[indexes[1]]\n",
    "        self.field[self.start_point[0], self.start_point[1]] = 0.5\n",
    "        self.field[self.goal_point[0], self.goal_point[1]] = 0.8\n",
    "        \n",
    "        self.points = {\"start\":self.start_point, \"goal\":self.goal_point}\n",
    "        \n",
    "    def get_points(self):\n",
    "        return self.points\n",
    "    \n",
    "    def get_maze(self):\n",
    "        field = self.field\n",
    "        field[field != 0] = 1\n",
    "        return field\n",
    "        \n",
    "    def reset(self):\n",
    "        self.field = np.ones(self.field_size)\n",
    "        self.field[1:self.field_size[0]-1, 1:self.field_size[1]-1] = 0\n",
    "        "
   ]
  },
  {
   "cell_type": "code",
   "execution_count": 24,
   "metadata": {
    "scrolled": false
   },
   "outputs": [],
   "source": [
    "mg = MazeGenerator([31, 31])\n",
    "mg.generate(save = False)"
   ]
  },
  {
   "cell_type": "code",
   "execution_count": 25,
   "metadata": {},
   "outputs": [
    {
     "data": {
      "image/png": "[encoded data removed]",
      "text/plain": [
       "<Figure size 432x288 with 1 Axes>"
      ]
     },
     "metadata": {
      "needs_background": "light"
     },
     "output_type": "display_data"
    }
   ],
   "source": [
    "mg.check_maze()"
   ]
  },
  {
   "cell_type": "code",
   "execution_count": null,
   "metadata": {},
   "outputs": [],
   "source": []
  }
 ],
 "metadata": {
  "kernelspec": {
   "display_name": "Python3",
   "language": "python",
   "name": "python3"
  },
  "language_info": {
   "codemirror_mode": {
    "name": "ipython",
    "version": 3
   },
   "file_extension": ".py",
   "mimetype": "text/x-python",
   "name": "python",
   "nbconvert_exporter": "python",
   "pygments_lexer": "ipython3",
   "version": "3.6.8"
  }
 },
 "nbformat": 4,
 "nbformat_minor": 2
}
